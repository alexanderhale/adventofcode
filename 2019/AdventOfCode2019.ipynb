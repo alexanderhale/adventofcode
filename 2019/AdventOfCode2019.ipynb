{
 "cells": [
  {
   "cell_type": "code",
   "execution_count": 2,
   "metadata": {},
   "outputs": [],
   "source": [
    "import numpy as np"
   ]
  },
  {
   "cell_type": "markdown",
   "metadata": {},
   "source": [
    "# Day 1"
   ]
  },
  {
   "cell_type": "code",
   "execution_count": 13,
   "metadata": {},
   "outputs": [
    {
     "name": "stdout",
     "output_type": "stream",
     "text": [
      "Fuel load requirements:\n",
      "3511949\n"
     ]
    }
   ],
   "source": [
    "day1 = np.loadtxt('day1.txt', dtype=int)\n",
    "print(\"Fuel load requirements:\")\n",
    "print(np.sum([module // 3 - 2 for module in day1]))"
   ]
  },
  {
   "cell_type": "code",
   "execution_count": 16,
   "metadata": {},
   "outputs": [
    {
     "name": "stdout",
     "output_type": "stream",
     "text": [
      "Fuel load requirements (including fuel for fuel load):\n",
      "5265045\n"
     ]
    }
   ],
   "source": [
    "total = 0\n",
    "for module in day1.copy():\n",
    "    while module > 0:\n",
    "        module = module // 3 - 2\n",
    "        if module > 0:\n",
    "            total += module\n",
    "print(\"Fuel load requirements (including fuel for fuel load):\")\n",
    "print(total)"
   ]
  },
  {
   "cell_type": "markdown",
   "metadata": {},
   "source": [
    "# Day 2"
   ]
  },
  {
   "cell_type": "code",
   "execution_count": 30,
   "metadata": {},
   "outputs": [
    {
     "name": "stdout",
     "output_type": "stream",
     "text": [
      "4570637\n"
     ]
    }
   ],
   "source": [
    "def d2(program, noun, verb):\n",
    "    program[1] = noun\n",
    "    program[2] = verb\n",
    "    \n",
    "    index = 0\n",
    "    while program[index] != 99:\n",
    "        if program[index] == 1:\n",
    "            program[program[index + 3]] = program[program[index + 1]] + program[program[index + 2]]\n",
    "        else:\n",
    "            program[program[index + 3]] = program[program[index + 1]] * program[program[index + 2]]\n",
    "        index += 4\n",
    "    return program[0]\n",
    "\n",
    "day2 = np.loadtxt('day2.txt', delimiter=',', dtype=int)\n",
    "print(d2(day2.copy(), 12, 2))"
   ]
  },
  {
   "cell_type": "code",
   "execution_count": 37,
   "metadata": {},
   "outputs": [
    {
     "name": "stdout",
     "output_type": "stream",
     "text": [
      "5485\n"
     ]
    }
   ],
   "source": [
    "for noun in range(100):\n",
    "    for verb in range(99):\n",
    "        if d2(day2.copy(), noun, verb) == 19690720:\n",
    "            print(100 * noun + verb)"
   ]
  },
  {
   "cell_type": "code",
   "execution_count": null,
   "metadata": {},
   "outputs": [],
   "source": []
  }
 ],
 "metadata": {
  "kernelspec": {
   "display_name": "Python 3",
   "language": "python",
   "name": "python3"
  },
  "language_info": {
   "codemirror_mode": {
    "name": "ipython",
    "version": 3
   },
   "file_extension": ".py",
   "mimetype": "text/x-python",
   "name": "python",
   "nbconvert_exporter": "python",
   "pygments_lexer": "ipython3",
   "version": "3.7.4"
  }
 },
 "nbformat": 4,
 "nbformat_minor": 2
}
