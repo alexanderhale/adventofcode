{
 "cells": [
  {
   "cell_type": "code",
   "execution_count": 4,
   "metadata": {},
   "outputs": [],
   "source": [
    "import numpy as np\n",
    "import pandas as pd"
   ]
  },
  {
   "cell_type": "markdown",
   "metadata": {},
   "source": [
    "# Day 1"
   ]
  },
  {
   "cell_type": "code",
   "execution_count": 5,
   "metadata": {},
   "outputs": [
    {
     "name": "stdout",
     "output_type": "stream",
     "text": [
      "Fuel load requirements:\n",
      "3511949\n"
     ]
    }
   ],
   "source": [
    "day1 = np.loadtxt('day1.txt', dtype=int)\n",
    "print(\"Fuel load requirements:\")\n",
    "print(np.sum([module // 3 - 2 for module in day1]))"
   ]
  },
  {
   "cell_type": "code",
   "execution_count": 6,
   "metadata": {},
   "outputs": [
    {
     "name": "stdout",
     "output_type": "stream",
     "text": [
      "Fuel load requirements (including fuel for fuel load):\n",
      "5265045\n"
     ]
    }
   ],
   "source": [
    "total = 0\n",
    "for module in day1.copy():\n",
    "    while module > 0:\n",
    "        module = module // 3 - 2\n",
    "        if module > 0:\n",
    "            total += module\n",
    "print(\"Fuel load requirements (including fuel for fuel load):\")\n",
    "print(total)"
   ]
  },
  {
   "cell_type": "markdown",
   "metadata": {},
   "source": [
    "# Day 2"
   ]
  },
  {
   "cell_type": "code",
   "execution_count": 7,
   "metadata": {},
   "outputs": [
    {
     "name": "stdout",
     "output_type": "stream",
     "text": [
      "4570637\n"
     ]
    }
   ],
   "source": [
    "def d2(program, noun, verb):\n",
    "    program[1] = noun\n",
    "    program[2] = verb\n",
    "    \n",
    "    index = 0\n",
    "    while program[index] != 99:\n",
    "        if program[index] == 1:\n",
    "            program[program[index + 3]] = program[program[index + 1]] + program[program[index + 2]]\n",
    "        else:\n",
    "            program[program[index + 3]] = program[program[index + 1]] * program[program[index + 2]]\n",
    "        index += 4\n",
    "    return program[0]\n",
    "\n",
    "day2 = np.loadtxt('day2.txt', delimiter=',', dtype=int)\n",
    "print(d2(day2.copy(), 12, 2))"
   ]
  },
  {
   "cell_type": "code",
   "execution_count": 8,
   "metadata": {},
   "outputs": [
    {
     "name": "stdout",
     "output_type": "stream",
     "text": [
      "5485\n"
     ]
    }
   ],
   "source": [
    "for noun in range(100):\n",
    "    for verb in range(99):\n",
    "        if d2(day2.copy(), noun, verb) == 19690720:\n",
    "            print(100 * noun + verb)"
   ]
  },
  {
   "cell_type": "markdown",
   "metadata": {},
   "source": [
    "# Day 3"
   ]
  },
  {
   "cell_type": "code",
   "execution_count": 60,
   "metadata": {},
   "outputs": [
    {
     "name": "stdout",
     "output_type": "stream",
     "text": [
      "Manhattan distance between (1, 1) and nearest intersection:\n",
      "2050\n"
     ]
    }
   ],
   "source": [
    "day3 = pd.read_csv('day3.txt', sep=\",\", header=None)\n",
    "\n",
    "# (x, y)\n",
    "w1Loc = (1, 1)\n",
    "w2Loc = (1, 1)\n",
    "wire1 = []\n",
    "wire2 = []\n",
    "\n",
    "columns = list(day3) \n",
    "for i in columns:\n",
    "    if str(day3[i][0]) != 'nan':\n",
    "        wire1move = day3[i][0]\n",
    "        \n",
    "        for j in range(int(wire1move[1:])):\n",
    "            if wire1move[0] == 'R':\n",
    "                w1Loc = (w1Loc[0] + 1, w1Loc[1])\n",
    "            elif wire1move[0] == 'L':\n",
    "                w1Loc = (w1Loc[0] - 1, w1Loc[1])\n",
    "            elif wire1move[0] == 'U':\n",
    "                w1Loc = (w1Loc[0], w1Loc[1] + 1)\n",
    "            elif wire1move[0] == 'D':\n",
    "                w1Loc = (w1Loc[0], w1Loc[1] - 1)\n",
    "            wire1.append(w1Loc)\n",
    "    \n",
    "    if str(day3[i][1]) != 'nan':\n",
    "        wire2move = day3[i][1]\n",
    "        \n",
    "        for l in range(int(wire2move[1:])):\n",
    "            if wire2move[0] == 'R':\n",
    "                w2Loc = (w2Loc[0] + 1, w2Loc[1])\n",
    "            elif wire2move[0] == 'L':\n",
    "                w2Loc = (w2Loc[0] - 1, w2Loc[1])\n",
    "            elif wire2move[0] == 'U':\n",
    "                w2Loc = (w2Loc[0], w2Loc[1] + 1)\n",
    "            elif wire2move[0] == 'D':\n",
    "                w2Loc = (w2Loc[0], w2Loc[1] - 1)\n",
    "            wire2.append(w2Loc)\n",
    "\n",
    "intersects = set(wire1).intersection(set(wire2))\n",
    "print('Manhattan distance between (1, 1) and nearest intersection:')\n",
    "print(np.min([abs(intersect[0] - 1) + abs(intersect[1] - 1) for intersect in intersects]))"
   ]
  },
  {
   "cell_type": "code",
   "execution_count": 61,
   "metadata": {},
   "outputs": [
    {
     "name": "stdout",
     "output_type": "stream",
     "text": [
      "Intersection with shortest cumulative steps taken:\n",
      "21666\n"
     ]
    }
   ],
   "source": [
    "print('Intersection with fewest cumulative steps taken:')\n",
    "print(np.min([wire1.index(intersect) + wire2.index(intersect) + 2 for intersect in intersects]))"
   ]
  },
  {
   "cell_type": "markdown",
   "metadata": {},
   "source": [
    "# Day 4"
   ]
  },
  {
   "cell_type": "code",
   "execution_count": 79,
   "metadata": {},
   "outputs": [
    {
     "name": "stdout",
     "output_type": "stream",
     "text": [
      "Day 4A potential passwords:\n",
      "1048\n",
      "Day 4B potential passwords:\n",
      "677\n"
     ]
    }
   ],
   "source": [
    "start = 246515\n",
    "end = 739105\n",
    "\n",
    "matchesA = 0\n",
    "matchesB = 0\n",
    "\n",
    "for number in range(start, end + 1):\n",
    "    doubleDigit = False\n",
    "    nonMultiDigit = False\n",
    "    allDecreasing = True\n",
    "    \n",
    "    number = str(number)\n",
    "    \n",
    "    for index in range(1, len(number)):\n",
    "        if number[index] < number[index - 1]:\n",
    "            allDecreasing = False\n",
    "        if number[index] == number[index - 1]:\n",
    "            doubleDigit = True\n",
    "            \n",
    "            if (index - 2 < 0 or number[index] != number[index - 2]) and (index + 1 >= len(number) or number[index] != number[index + 1]):\n",
    "                nonMultiDigit = True\n",
    "    \n",
    "    if doubleDigit == True and allDecreasing == True:\n",
    "        matchesA += 1\n",
    "        \n",
    "        if nonMultiDigit == True:\n",
    "            matchesB += 1\n",
    "        \n",
    "print(\"Day 4A potential passwords:\")\n",
    "print(matchesA)\n",
    "\n",
    "print(\"Day 4B potential passwords:\")\n",
    "print(matchesB)"
   ]
  },
  {
   "cell_type": "markdown",
   "metadata": {},
   "source": [
    "# Day 5"
   ]
  },
  {
   "cell_type": "code",
   "execution_count": 134,
   "metadata": {},
   "outputs": [
    {
     "name": "stdout",
     "output_type": "stream",
     "text": [
      "Mode 1 result code:\n",
      "0\n",
      "0\n",
      "0\n",
      "0\n",
      "0\n",
      "0\n",
      "0\n",
      "0\n",
      "0\n",
      "15508323\n",
      "\n",
      "Mode 5 result code:\n",
      "9006327\n"
     ]
    }
   ],
   "source": [
    "def d5(program, system_id):\n",
    "    \n",
    "    index = 0\n",
    "    while index < program.shape[0]:\n",
    "        # decode instruction\n",
    "        full_instruction = str(program[index])\n",
    "        opcode = int(full_instruction[-2:])\n",
    "        parameter_modes = list(full_instruction[:-2])\n",
    "        parameter_modes.reverse()\n",
    "        parameter_modes = [int(x) for x in parameter_modes]\n",
    "        \n",
    "        # execute instruction\n",
    "        if opcode in [1, 2]:\n",
    "            while len(parameter_modes) < 3:\n",
    "                parameter_modes.append(0)\n",
    "                \n",
    "            if parameter_modes[0] == 0:\n",
    "                p1 = program[program[index + 1]]\n",
    "            else:\n",
    "                p1 = program[index + 1]\n",
    "            if parameter_modes[1] == 0:\n",
    "                p2 = program[program[index + 2]]\n",
    "            else:\n",
    "                p2 = program[index + 2]\n",
    "            \n",
    "            if opcode == 1:\n",
    "                program[program[index + 3]] = p1 + p2\n",
    "            else:\n",
    "                program[program[index + 3]] = p1 * p2\n",
    "                \n",
    "            index += 4\n",
    "            \n",
    "        elif opcode == 3:\n",
    "            if len(parameter_modes) < 1 or parameter_modes[0] == 0:\n",
    "                program[program[index + 1]] = system_id\n",
    "            else:\n",
    "                program[program[index + 1]] = program[index + 1]\n",
    "            index += 2\n",
    "            \n",
    "        elif opcode == 4:\n",
    "            if len(parameter_modes) < 1 or parameter_modes[0] == 0:\n",
    "                print(program[program[index + 1]])\n",
    "            else:\n",
    "                print(program[index + 1])\n",
    "            index += 2\n",
    "        \n",
    "        elif opcode in [5, 6]:\n",
    "            while len(parameter_modes) < 2:\n",
    "                parameter_modes.append(0)\n",
    "            \n",
    "            if parameter_modes[0] == 0:\n",
    "                p1 = program[program[index + 1]]\n",
    "            else:\n",
    "                p1 = program[index + 1]\n",
    "            \n",
    "            if (p1 != 0 and opcode == 5) or (p1 == 0 and opcode == 6):\n",
    "                if parameter_modes[1] == 0:\n",
    "                    p2 = program[program[index + 2]]\n",
    "                else:\n",
    "                    p2 = program[index + 2]\n",
    "                    \n",
    "                index = p2\n",
    "            else:\n",
    "                index += 3\n",
    "            \n",
    "        elif opcode in [7, 8]:\n",
    "            while len(parameter_modes) < 3:\n",
    "                parameter_modes.append(0)\n",
    "                \n",
    "            if parameter_modes[0] == 0:\n",
    "                p1 = program[program[index + 1]]\n",
    "            else:\n",
    "                p1 = program[index + 1]\n",
    "            if parameter_modes[1] == 0:\n",
    "                p2 = program[program[index + 2]]\n",
    "            else:\n",
    "                p2 = program[index + 2]\n",
    "                \n",
    "            if (p1 < p2 and opcode == 7) or (p1 == p2 and opcode == 8):\n",
    "                program[program[index + 3]] = 1\n",
    "            else:\n",
    "                program[program[index + 3]] = 0\n",
    "\n",
    "            index += 4\n",
    "        \n",
    "        else:\n",
    "            # opcode == 99 => halt immediately\n",
    "            index = program.shape[0]\n",
    "\n",
    "\n",
    "day5 = np.loadtxt('day5.txt', delimiter=',', dtype=int)\n",
    "\n",
    "print(\"Mode 1 result code:\")\n",
    "d5(day5.copy(), 1)\n",
    "print()\n",
    "print(\"Mode 5 result code:\")\n",
    "d5(day5.copy(), 5)"
   ]
  },
  {
   "cell_type": "markdown",
   "metadata": {},
   "source": [
    "# Day 6"
   ]
  },
  {
   "cell_type": "code",
   "execution_count": 215,
   "metadata": {},
   "outputs": [
    {
     "name": "stdout",
     "output_type": "stream",
     "text": [
      "Number of orbits:\n",
      "158090\n"
     ]
    }
   ],
   "source": [
    "class NodeD6:\n",
    "\n",
    "    def __init__(self, data, parent):\n",
    "        self.parent = parent\n",
    "        self.children = []\n",
    "        self.data = data\n",
    "        \n",
    "    def ancestors(self):\n",
    "        ancestor = self.parent\n",
    "        ancestors = []\n",
    "        while ancestor != None:\n",
    "            ancestors.append(ancestor)\n",
    "            ancestor = ancestor.parent\n",
    "        return(ancestors)\n",
    "    \n",
    "    def addChild(self, child):\n",
    "        self.children.append(child)\n",
    "        \n",
    "    def addParent(self, parent):\n",
    "        self.parent = parent\n",
    "\n",
    "    def printTree(self):\n",
    "        print(self.data, self.depth())\n",
    "        [child.printTree() for child in self.children]\n",
    "        \n",
    "    def depth(self):\n",
    "        depth = 1\n",
    "        ancestor = self.parent\n",
    "        while ancestor != None:\n",
    "            ancestor = ancestor.parent\n",
    "            depth += 1\n",
    "        return depth\n",
    "\n",
    "day6 = np.loadtxt('day6.txt', delimiter=')', dtype=str)\n",
    "planets = dict()\n",
    "\n",
    "for orbit in day6:\n",
    "    if orbit[0] not in planets:\n",
    "        planets[orbit[0]] = NodeD6(orbit[0], None)\n",
    "    if orbit[1] not in planets:\n",
    "        planets[orbit[1]] = NodeD6(orbit[1], planets[orbit[0]])\n",
    "    \n",
    "    planets[orbit[0]].addChild(planets[orbit[1]])\n",
    "    planets[orbit[1]].addParent(planets[orbit[0]])\n",
    "\n",
    "print(\"Number of orbits:\")\n",
    "print(np.sum([planets[planet].depth() - 1 for planet in planets]))"
   ]
  },
  {
   "cell_type": "code",
   "execution_count": 216,
   "metadata": {},
   "outputs": [
    {
     "name": "stdout",
     "output_type": "stream",
     "text": [
      "Orbital transfers between YOU and SAN:\n",
      "241\n"
     ]
    }
   ],
   "source": [
    "# lowest common ancestor depth\n",
    "def lcaDepth(A, B):\n",
    "    commonNodes = list(set(A).intersection(set(B)))\n",
    "    \n",
    "    maxDepth = 1\n",
    "    for node in commonNodes:\n",
    "        d = node.depth()\n",
    "        if d > maxDepth:\n",
    "            maxDepth = d\n",
    "    \n",
    "    return maxDepth\n",
    "\n",
    "commonDepth = lcaDepth(planets['SAN'].ancestors(), planets['YOU'].ancestors())\n",
    "print(\"Orbital transfers between YOU and SAN:\")\n",
    "print((planets['YOU'].parent.depth() - commonDepth) + (planets['SAN'].parent.depth() - commonDepth))"
   ]
  },
  {
   "cell_type": "code",
   "execution_count": null,
   "metadata": {},
   "outputs": [],
   "source": []
  }
 ],
 "metadata": {
  "kernelspec": {
   "display_name": "Python 3",
   "language": "python",
   "name": "python3"
  },
  "language_info": {
   "codemirror_mode": {
    "name": "ipython",
    "version": 3
   },
   "file_extension": ".py",
   "mimetype": "text/x-python",
   "name": "python",
   "nbconvert_exporter": "python",
   "pygments_lexer": "ipython3",
   "version": "3.6.9"
  }
 },
 "nbformat": 4,
 "nbformat_minor": 2
}
