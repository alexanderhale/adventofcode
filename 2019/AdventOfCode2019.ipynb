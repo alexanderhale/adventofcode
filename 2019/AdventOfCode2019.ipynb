{
 "cells": [
  {
   "cell_type": "code",
   "execution_count": 4,
   "metadata": {},
   "outputs": [],
   "source": [
    "import numpy as np\n",
    "import pandas as pd"
   ]
  },
  {
   "cell_type": "markdown",
   "metadata": {},
   "source": [
    "# Day 1"
   ]
  },
  {
   "cell_type": "code",
   "execution_count": 5,
   "metadata": {},
   "outputs": [
    {
     "name": "stdout",
     "output_type": "stream",
     "text": [
      "Fuel load requirements:\n",
      "3511949\n"
     ]
    }
   ],
   "source": [
    "day1 = np.loadtxt('day1.txt', dtype=int)\n",
    "print(\"Fuel load requirements:\")\n",
    "print(np.sum([module // 3 - 2 for module in day1]))"
   ]
  },
  {
   "cell_type": "code",
   "execution_count": 6,
   "metadata": {},
   "outputs": [
    {
     "name": "stdout",
     "output_type": "stream",
     "text": [
      "Fuel load requirements (including fuel for fuel load):\n",
      "5265045\n"
     ]
    }
   ],
   "source": [
    "total = 0\n",
    "for module in day1.copy():\n",
    "    while module > 0:\n",
    "        module = module // 3 - 2\n",
    "        if module > 0:\n",
    "            total += module\n",
    "print(\"Fuel load requirements (including fuel for fuel load):\")\n",
    "print(total)"
   ]
  },
  {
   "cell_type": "markdown",
   "metadata": {},
   "source": [
    "# Day 2"
   ]
  },
  {
   "cell_type": "code",
   "execution_count": 7,
   "metadata": {},
   "outputs": [
    {
     "name": "stdout",
     "output_type": "stream",
     "text": [
      "4570637\n"
     ]
    }
   ],
   "source": [
    "def d2(program, noun, verb):\n",
    "    program[1] = noun\n",
    "    program[2] = verb\n",
    "    \n",
    "    index = 0\n",
    "    while program[index] != 99:\n",
    "        if program[index] == 1:\n",
    "            program[program[index + 3]] = program[program[index + 1]] + program[program[index + 2]]\n",
    "        else:\n",
    "            program[program[index + 3]] = program[program[index + 1]] * program[program[index + 2]]\n",
    "        index += 4\n",
    "    return program[0]\n",
    "\n",
    "day2 = np.loadtxt('day2.txt', delimiter=',', dtype=int)\n",
    "print(d2(day2.copy(), 12, 2))"
   ]
  },
  {
   "cell_type": "code",
   "execution_count": 8,
   "metadata": {},
   "outputs": [
    {
     "name": "stdout",
     "output_type": "stream",
     "text": [
      "5485\n"
     ]
    }
   ],
   "source": [
    "for noun in range(100):\n",
    "    for verb in range(99):\n",
    "        if d2(day2.copy(), noun, verb) == 19690720:\n",
    "            print(100 * noun + verb)"
   ]
  },
  {
   "cell_type": "markdown",
   "metadata": {},
   "source": [
    "# Day 3"
   ]
  },
  {
   "cell_type": "code",
   "execution_count": 9,
   "metadata": {},
   "outputs": [],
   "source": [
    "# part 1 code not pushed to repo; answer was 2050"
   ]
  },
  {
   "cell_type": "code",
   "execution_count": 58,
   "metadata": {},
   "outputs": [
    {
     "name": "stdout",
     "output_type": "stream",
     "text": [
      "Manhattan distance between (1, 1) and nearest intersection:\n",
      "159\n"
     ]
    }
   ],
   "source": [
    "day3 = pd.read_csv('day3.txt', sep=\",\", header=None)\n",
    "\n",
    "# (x, y)\n",
    "w1Loc = (1, 1)\n",
    "w2Loc = (1, 1)\n",
    "wire1 = []\n",
    "wire2 = []\n",
    "\n",
    "columns = list(day3) \n",
    "for i in columns:\n",
    "    if str(day3[i][0]) != 'nan':\n",
    "        wire1move = day3[i][0]\n",
    "        \n",
    "        for j in range(int(wire1move[1:])):\n",
    "            if wire1move[0] == 'R':\n",
    "                w1Loc = (w1Loc[0] + 1, w1Loc[1])\n",
    "            elif wire1move[0] == 'L':\n",
    "                w1Loc = (w1Loc[0] - 1, w1Loc[1])\n",
    "            elif wire1move[0] == 'U':\n",
    "                w1Loc = (w1Loc[0], w1Loc[1] + 1)\n",
    "            elif wire1move[0] == 'D':\n",
    "                w1Loc = (w1Loc[0], w1Loc[1] - 1)\n",
    "            wire1.append(w1Loc)\n",
    "    \n",
    "    if str(day3[i][1]) != 'nan':\n",
    "        wire2move = day3[i][1]\n",
    "        \n",
    "        for l in range(int(wire2move[1:])):\n",
    "            if wire2move[0] == 'R':\n",
    "                w2Loc = (w2Loc[0] + 1, w2Loc[1])\n",
    "            elif wire2move[0] == 'L':\n",
    "                w2Loc = (w2Loc[0] - 1, w2Loc[1])\n",
    "            elif wire2move[0] == 'U':\n",
    "                w2Loc = (w2Loc[0], w2Loc[1] + 1)\n",
    "            elif wire2move[0] == 'D':\n",
    "                w2Loc = (w2Loc[0], w2Loc[1] - 1)\n",
    "            wire2.append(w2Loc)\n",
    "\n",
    "intersects = set(wire1).intersection(set(wire2))\n",
    "print('Manhattan distance between (1, 1) and nearest intersection:')\n",
    "print(np.min([abs(intersect[0] - 1) + abs(intersect[1] - 1) for intersect in intersects]))"
   ]
  },
  {
   "cell_type": "code",
   "execution_count": 59,
   "metadata": {},
   "outputs": [
    {
     "name": "stdout",
     "output_type": "stream",
     "text": [
      "Intersection with shortest cumulative steps taken:\n",
      "610\n"
     ]
    }
   ],
   "source": [
    "print('Intersection with shortest cumulative steps taken:')\n",
    "print(np.min([wire1.index(intersect) + wire2.index(intersect) + 2 for intersect in intersects]))"
   ]
  }
 ],
 "metadata": {
  "kernelspec": {
   "display_name": "Python 3",
   "language": "python",
   "name": "python3"
  },
  "language_info": {
   "codemirror_mode": {
    "name": "ipython",
    "version": 3
   },
   "file_extension": ".py",
   "mimetype": "text/x-python",
   "name": "python",
   "nbconvert_exporter": "python",
   "pygments_lexer": "ipython3",
   "version": "3.6.9"
  }
 },
 "nbformat": 4,
 "nbformat_minor": 2
}
